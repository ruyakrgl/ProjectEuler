{
 "cells": [
  {
   "cell_type": "markdown",
   "metadata": {},
   "source": [
    "# Problem 1: Multiples of 3 or 5\n",
    "If we list all the natural numbers below 10 that are multiples of 3 or 5, we get 3, 5, 6 and 9. The sum of these multiples is 23.\n",
    "Find the sum of all the multiples of 3 or 5 below 1000.\n",
    "\n",
    "- Author: Ruya Karagulle\n",
    "- Date: Jan 31, 2023\n",
    "- Note: In this problem, my goal is to write a general function for a limit number and a list of multiples"
   ]
  },
  {
   "cell_type": "markdown",
   "metadata": {},
   "source": [
    "First attempt is to check each number from 1 to the limit if it is divisible by the list of multiples. If true, save it in a list, and finally sum them up."
   ]
  },
  {
   "cell_type": "code",
   "execution_count": 1,
   "metadata": {},
   "outputs": [],
   "source": [
    "def sum_of_multiples_below(limit, list_of_multiples):\n",
    "    return sum(list([k for k in range(limit) if any([k%i==0 for i in list_of_multiples])]))"
   ]
  },
  {
   "cell_type": "markdown",
   "metadata": {},
   "source": [
    "The time complexity is $O(NK)* where $N$ is the limit number and $K$ is the number of multiples. We can do better. Instead of checking each element in the range from $1$ to $N$, we know that there are\n",
    "$\\lfloor \\frac{N}{k} \\rfloor$ numbers that is a multiple of $k$ in range from $1$ to $N$. The sum of these numbers are \n",
    "$$k\\sum_{i=1}^{\\lfloor \\frac{N}{k} \\rfloor} i = k\\frac{\\lfloor \\frac{N}{k} \\rfloor(\\lfloor \\frac{N}{k} \\rfloor+1)}{2}.$$\n",
    "We can do that for all multiples in the list of multiples. \n",
    "Final sum will be \n",
    "$$ \\sum_{k \\in \\mathcal{K}}k\\sum_{i=1}^{\\lfloor \\frac{N}{k} \\rfloor} i = k\\frac{\\lfloor \\frac{N}{k} \\rfloor(\\lfloor \\frac{N}{k} \\rfloor+1)}{2}$$\n",
    "where $\\mathcal{K}$ is the list of multiples. However, there is a problem here. We count the numbers that are multiples of multiple numbers in the list more than once. For example, we count multiples of 15 twice. We should subtract one of them. The idea is subtracting all common multiples. \n",
    "\n",
    "The problem is not solved yet. Think about a case where there are three multiples, e.g. $3,4,5$. We add multiples of $3,4,5$ and we subtract multiples of $12,15,20$. This means we add and substracted $60$ (common multiple of $3,4,5,12,15,20$) thrice. No $60$ in the summation list. It should be added. Thus, the idea is\n",
    "$$\\sum_{k \\in \\mathcal{K}_i} (-1)^{(i+1)} k\\frac{\\lfloor \\frac{N}{k} \\rfloor(\\lfloor \\frac{N}{k} \\rfloor+1)}{2} \\quad \\forall i \\in \\{1, \\ldots, |\\mathcal{K}_1|\\}$$\n",
    "where $\\mathcal{K}_i$ is the list of all multiples that is formed by multiplying $i$ numbers from $\\mathcal{K}_1$. E.g. when $\\mathcal{K} = \\{3,4,5\\}$, $\\mathcal{K}_1 = \\{3,4,5\\}$, $\\mathcal{K}_2 = \\{12,15,20\\}$, and $\\mathcal{K}_3 = \\{60\\}$.\n",
    "\n",
    "Here, once these sets are constructed, the algorithm takes $O(2^K-1)$ time where $K$ is the number of multiples. It is faster than the brut force one for small number of $K$. I was lazy so I implemented the $K=2$ version. For generalized version, one should implement a function that constructs $\\mathcal{K}_i$'s, which may be the bottleneck for the time complexity."
   ]
  },
  {
   "cell_type": "code",
   "execution_count": 2,
   "metadata": {},
   "outputs": [],
   "source": [
    "def fast_sum_of_multiples_below(limit, list_of_multiples):\n",
    "    sum = 0\n",
    "    for k, multiple in enumerate(list_of_multiples):\n",
    "        n_int_mult = (limit-1)//multiple\n",
    "        sum += multiple*(n_int_mult*(n_int_mult+1))/2\n",
    "        for prev_mult in list_of_multiples[:k]:\n",
    "            n_int_mult = (limit-1)//(multiple*prev_mult)\n",
    "            sum += -(multiple*prev_mult)*(n_int_mult*(n_int_mult+1))/2\n",
    "    return sum"
   ]
  },
  {
   "cell_type": "code",
   "execution_count": 5,
   "metadata": {},
   "outputs": [
    {
     "name": "stdout",
     "output_type": "stream",
     "text": [
      "Result of brut force function: 233168\n",
      "Result of fast function:       233168.0\n"
     ]
    }
   ],
   "source": [
    "print(f\"Result of brut force function: {sum_of_multiples_below(1000, [3,5])}\")\n",
    "print(f\"Result of fast function: {fast_sum_of_multiples_below(1000, [3,5]): >14}\")"
   ]
  },
  {
   "cell_type": "code",
   "execution_count": 7,
   "metadata": {},
   "outputs": [
    {
     "name": "stdout",
     "output_type": "stream",
     "text": [
      "timeit for brut force function:\n",
      "593 µs ± 15.8 µs per loop (mean ± std. dev. of 7 runs, 1000 loops each)\n",
      "timeit for fast function:\n",
      "1.71 µs ± 64.5 ns per loop (mean ± std. dev. of 7 runs, 1000000 loops each)\n"
     ]
    }
   ],
   "source": [
    "print(\"timeit for brut force function:\")\n",
    "%timeit sum_of_multiples_below(1000, [3,5])\n",
    "print(\"timeit for fast function:\")\n",
    "%timeit fast_sum_of_multiples_below(1000, [3,5])"
   ]
  }
 ],
 "metadata": {
  "kernelspec": {
   "display_name": "Python 3.9.1 64-bit",
   "language": "python",
   "name": "python3"
  },
  "language_info": {
   "codemirror_mode": {
    "name": "ipython",
    "version": 3
   },
   "file_extension": ".py",
   "mimetype": "text/x-python",
   "name": "python",
   "nbconvert_exporter": "python",
   "pygments_lexer": "ipython3",
   "version": "3.9.1"
  },
  "orig_nbformat": 4,
  "vscode": {
   "interpreter": {
    "hash": "aee8b7b246df8f9039afb4144a1f6fd8d2ca17a180786b69acc140d282b71a49"
   }
  }
 },
 "nbformat": 4,
 "nbformat_minor": 2
}
