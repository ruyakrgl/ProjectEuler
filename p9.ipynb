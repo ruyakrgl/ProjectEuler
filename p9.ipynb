{
 "cells": [
  {
   "attachments": {},
   "cell_type": "markdown",
   "metadata": {},
   "source": [
    "# Problem 9: Special Pythagorean Triplet\n",
    "\n",
    "A Pythagorean triplet is a set of three natural numbers, $a < b < c$, for which,\n",
    "\n",
    "$a^2 + b^2 = c^2$\n",
    "For example, $32 + 42 = 9 + 16 = 25 = 52$.\n",
    "\n",
    "There exists exactly one Pythagorean triplet for which $a + b + c = 1000$.\n",
    "Find the product abc.\n",
    "\n",
    "- Author: Ruya Karagulle\n",
    "- Date: Mar 11, 2023"
   ]
  },
  {
   "attachments": {},
   "cell_type": "markdown",
   "metadata": {},
   "source": [
    "> Disclaimer: This solution imports an external package (math), to use `math.sqrt` function. In my defense, people can code Project Euler answers in their favorite language and matlab has built-in square-root functions. I just make python a little bit math friendly. \n",
    "\n",
    "### Preliminaries:\n",
    "\n",
    "A Pythegorean triplet follows $a^2+b^2=c^2$ rule. That is $a^2 = c^2-b^2 = (c-b)(c+b)$. We can set $b+c = a^2/n$ and $c-b = n$ where $n$ is an integer. \n",
    "\n",
    "Then $a+b+c = a + \\frac{a^2}{n} = \\frac{a^2 +an}{n}$. Let us set $a+b+c = k$ and this will give the following equation: $a^2 + an - kn = 0$. If the positive root of this equation is integer then it means we find our solution $a$. The positive root is \n",
    "\n",
    "$$x_p = \\frac{n-\\sqrt(n^2+4kn)}{2}.$$\n",
    "\n",
    "We iterate over $n$ until we find an integer $x_p$.\n"
   ]
  },
  {
   "cell_type": "code",
   "execution_count": 51,
   "metadata": {},
   "outputs": [
    {
     "name": "stdout",
     "output_type": "stream",
     "text": [
      "200 375 425\n"
     ]
    },
    {
     "data": {
      "text/plain": [
       "31875000"
      ]
     },
     "execution_count": 51,
     "metadata": {},
     "output_type": "execute_result"
    }
   ],
   "source": [
    "import math\n",
    "\n",
    "def pythagorean_triplet(k):\n",
    "    for n in range(1,k//3):\n",
    "        positive_root = -(n-math.sqrt(n*(n+4*k)))/2\n",
    "        if positive_root == int(positive_root):\n",
    "            a = int(positive_root)\n",
    "            b = int((a**2-(n**2))/(2*n))\n",
    "            c = int((a**2+(n**2))/(2*n))\n",
    "            print(a,b,c)\n",
    "            return a*b*c\n",
    "\n",
    "pythagorean_triplet(1000)"
   ]
  }
 ],
 "metadata": {
  "kernelspec": {
   "display_name": "Python 3",
   "language": "python",
   "name": "python3"
  },
  "language_info": {
   "codemirror_mode": {
    "name": "ipython",
    "version": 3
   },
   "file_extension": ".py",
   "mimetype": "text/x-python",
   "name": "python",
   "nbconvert_exporter": "python",
   "pygments_lexer": "ipython3",
   "version": "3.9.1"
  },
  "orig_nbformat": 4,
  "vscode": {
   "interpreter": {
    "hash": "aee8b7b246df8f9039afb4144a1f6fd8d2ca17a180786b69acc140d282b71a49"
   }
  }
 },
 "nbformat": 4,
 "nbformat_minor": 2
}
