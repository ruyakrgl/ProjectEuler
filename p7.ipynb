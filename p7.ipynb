{
 "cells": [
  {
   "attachments": {},
   "cell_type": "markdown",
   "metadata": {},
   "source": [
    "# Problem 7: 10001st prime\n",
    "By listing the first six prime numbers: 2, 3, 5, 7, 11, and 13, we can see that the 6th prime is 13.\n",
    "\n",
    "What is the 10 001st prime number?\n",
    "- Author: Ruya Karagulle\n",
    "- Date: Mar 11, 2023\n",
    "- Note: Using prime list algorithms makes everything slower. "
   ]
  },
  {
   "cell_type": "code",
   "execution_count": 26,
   "metadata": {},
   "outputs": [
    {
     "data": {
      "text/plain": [
       "104743"
      ]
     },
     "execution_count": 26,
     "metadata": {},
     "output_type": "execute_result"
    }
   ],
   "source": [
    "def isprime(n):\n",
    "    i = 2\n",
    "    while i**2 <= n:\n",
    "        if n%i ==0:\n",
    "            return False\n",
    "        i+=1\n",
    "    return True\n",
    "\n",
    "def find_next_prime(n):\n",
    "    number = n+1\n",
    "    while not isprime(number):\n",
    "        number +=1\n",
    "    return number\n",
    "\n",
    "def n_th_prime(n):    \n",
    "    number = 2\n",
    "    for i in range(n-1):\n",
    "        x = find_next_prime(number)\n",
    "        number = x\n",
    "    return x\n",
    "\n",
    "n_th_prime(10001)\n",
    "   "
   ]
  }
 ],
 "metadata": {
  "kernelspec": {
   "display_name": "Python 3",
   "language": "python",
   "name": "python3"
  },
  "language_info": {
   "codemirror_mode": {
    "name": "ipython",
    "version": 3
   },
   "file_extension": ".py",
   "mimetype": "text/x-python",
   "name": "python",
   "nbconvert_exporter": "python",
   "pygments_lexer": "ipython3",
   "version": "3.9.1"
  },
  "orig_nbformat": 4,
  "vscode": {
   "interpreter": {
    "hash": "aee8b7b246df8f9039afb4144a1f6fd8d2ca17a180786b69acc140d282b71a49"
   }
  }
 },
 "nbformat": 4,
 "nbformat_minor": 2
}
