{
 "cells": [
  {
   "attachments": {},
   "cell_type": "markdown",
   "metadata": {},
   "source": [
    "# Problem 4: Largest palindrome product\n",
    "A palindromic number reads the same both ways. The largest palindrome made from the product of two 2-digit numbers is 9009 = 91 × 99.\n",
    "Find the largest palindrome made from the product of two 3-digit numbers\n",
    "\n",
    "- Author: Ruya Karagulle\n",
    "- Date: Mar 11, 2023\n",
    "- Note: It is somewhat brute force. There may be a more clever mathematical solution. It's a general approach to find the largest palindrome made from the product of two n-digit numbers. "
   ]
  },
  {
   "cell_type": "code",
   "execution_count": 42,
   "metadata": {},
   "outputs": [
    {
     "name": "stdout",
     "output_type": "stream",
     "text": [
      "906609\n"
     ]
    }
   ],
   "source": [
    "def ispalindrome(number):\n",
    "    # I searched on the web and found a better palindrome algorithm\n",
    "\n",
    "    # digits = [*str(number)]\n",
    "    # k = 0\n",
    "    # while k < len(digits)//2:\n",
    "    #     if digits[k] == digits[-1-k]:\n",
    "    #         k += 1\n",
    "    #         continue\n",
    "    #     else:\n",
    "    #         return False\n",
    "    # return True\n",
    "    \n",
    "    if str(number) == str(number)[::-1]:\n",
    "        return True\n",
    "    else:\n",
    "        return False\n",
    "\n",
    "def check_digits(number):\n",
    "    count = 1\n",
    "    while number//10 != 0:\n",
    "        count+=1\n",
    "        number = number//10\n",
    "    return count\n",
    "\n",
    "def largest_palindrome(n):\n",
    "    largest_digit_no = 10**n-1\n",
    "    smallest_digit_no = 10**(n-1)\n",
    "    for number in range(largest_digit_no**2,smallest_digit_no**2,-1):\n",
    "        if ispalindrome(number):\n",
    "            for k in range(largest_digit_no,smallest_digit_no,-1):\n",
    "                if number%k==0:\n",
    "                    if check_digits(number//k) == n:\n",
    "                        # print([k, number//k], number)\n",
    "                        return number\n",
    "\n",
    "print(largest_palindrome(3))"
   ]
  }
 ],
 "metadata": {
  "kernelspec": {
   "display_name": "Python 3",
   "language": "python",
   "name": "python3"
  },
  "language_info": {
   "name": "python",
   "version": "3.9.1"
  },
  "orig_nbformat": 4,
  "vscode": {
   "interpreter": {
    "hash": "aee8b7b246df8f9039afb4144a1f6fd8d2ca17a180786b69acc140d282b71a49"
   }
  }
 },
 "nbformat": 4,
 "nbformat_minor": 2
}
