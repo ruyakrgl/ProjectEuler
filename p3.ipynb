{
 "cells": [
  {
   "attachments": {},
   "cell_type": "markdown",
   "metadata": {},
   "source": [
    "# Problem 3: Largest Prime Factor\n",
    "The prime factors of 13195 are 5, 7, 13 and 29.\n",
    "\n",
    "What is the largest prime factor of the number 600851475143 ?"
   ]
  },
  {
   "cell_type": "code",
   "execution_count": 19,
   "metadata": {},
   "outputs": [],
   "source": [
    "# initial attempt: for every number in the range of sqrt(N), first checks if it's prime, then checks if it's a multiplier of N. So slow.\n",
    "def largest_prime_factor(N):\n",
    "    if N%2==0:\n",
    "        prime_list = [2]\n",
    "        largest_prime = 2\n",
    "    else:\n",
    "        prime_list = []\n",
    "        largest_prime = 1\n",
    "    i = 3\n",
    "    while i*i < N:\n",
    "        print(i)\n",
    "        flag = 0\n",
    "        for k in range(2,i-1):\n",
    "            if i%k == 0:\n",
    "                flag = 1\n",
    "                break\n",
    "        if flag == 0 and N % i == 0:\n",
    "            largest_prime = i\n",
    "            prime_list.append(i)\n",
    "            print(f\"prime found:{i}\")\n",
    "        i+=2\n",
    "    print(prime_list)\n",
    "    return largest_prime\n"
   ]
  },
  {
   "cell_type": "code",
   "execution_count": 8,
   "metadata": {},
   "outputs": [],
   "source": [
    "# apparently there is this prime number function called Sieve of Eratosthenes:\n",
    "def sieve_of_erath(N):\n",
    "    primes = (N+1)*[1]\n",
    "    i = 2\n",
    "    for i in range(i*i, N+1, i):\n",
    "        primes[i] = False\n",
    "    i = 3\n",
    "    while i*i <= N:\n",
    "        if primes[i]:\n",
    "            for k in range(i*i, N+1, i):\n",
    "                primes[k] = False\n",
    "        i += 2\n",
    "    prime_list = [k for k in range(i) if primes[k] == True and k != 1 and k!= 0]\n",
    "    return prime_list"
   ]
  },
  {
   "cell_type": "code",
   "execution_count": 3,
   "metadata": {},
   "outputs": [],
   "source": [
    "def largest_prime_factor_with_sieve(N):\n",
    "    primes = sieve_of_erath(N)\n",
    "    prime_list = []\n",
    "    largest_prime = 1\n",
    "    for number in primes:\n",
    "        if N%number ==0:\n",
    "            largest_prime = number\n",
    "            prime_list.append(number)\n",
    "            print(f\"prime found:{number}\")\n",
    "    print(prime_list)\n",
    "    return largest_prime\n"
   ]
  },
  {
   "cell_type": "code",
   "execution_count": null,
   "metadata": {},
   "outputs": [
    {
     "ename": "",
     "evalue": "",
     "output_type": "error",
     "traceback": [
      "\u001b[1;31mCanceled future for execute_request message before replies were done"
     ]
    },
    {
     "ename": "",
     "evalue": "",
     "output_type": "error",
     "traceback": [
      "\u001b[1;31mThe Kernel crashed while executing code in the the current cell or a previous cell. Please review the code in the cell(s) to identify a possible cause of the failure. Click <a href='https://aka.ms/vscodeJupyterKernelCrash'>here</a> for more info. View Jupyter <a href='command:jupyter.viewOutput'>log</a> for further details."
     ]
    }
   ],
   "source": [
    "largest_prime_factor_with_sieve(600851475143)\n",
    "# largest_prime_factor_with_sieve(13195)\n",
    "# import numpy as np\n",
    "# np.sqrt(600851475143)"
   ]
  }
 ],
 "metadata": {
  "kernelspec": {
   "display_name": "Python 3",
   "language": "python",
   "name": "python3"
  },
  "language_info": {
   "codemirror_mode": {
    "name": "ipython",
    "version": 3
   },
   "file_extension": ".py",
   "mimetype": "text/x-python",
   "name": "python",
   "nbconvert_exporter": "python",
   "pygments_lexer": "ipython3",
   "version": "3.9.1"
  },
  "orig_nbformat": 4,
  "vscode": {
   "interpreter": {
    "hash": "aee8b7b246df8f9039afb4144a1f6fd8d2ca17a180786b69acc140d282b71a49"
   }
  }
 },
 "nbformat": 4,
 "nbformat_minor": 2
}
