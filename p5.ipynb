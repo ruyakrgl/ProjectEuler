{
 "cells": [
  {
   "attachments": {},
   "cell_type": "markdown",
   "metadata": {},
   "source": [
    "# Problem 5: Smallest Multiple\n",
    "2520 is the smallest number that can be divided by each of the numbers from 1 to 10 without any remainder.\n",
    "What is the smallest positive number that is evenly divisible by all of the numbers from 1 to 20?\n",
    "\n",
    "- Author: Ruya Karagulle\n",
    "- Date: Feb 27, 2023\n",
    "- Note: Evenly divisible means leaving no remainder when divided by. (I first thought that the result of the division should be an even number. Foreing language problems :( )\n",
    "- Note2: I don't think that this is the fastest solution, I didn't have time for thinking about other solutions today :("
   ]
  },
  {
   "cell_type": "code",
   "execution_count": 114,
   "metadata": {},
   "outputs": [],
   "source": [
    "# The idea: We have 1 to 20 to multiply but some of the numbers are repated. For instance, 4 includes two 2's. If a number can be divided by 4, it is divided by 2 as well.\n",
    "# We multiply prime numbers (along with their maximum power in a number)\n",
    "# For 1 to 20, it is 2^4*3^2*5*7*11*13*17*19.\n",
    "# Thus we shoud find each numbers prime factor then find their maximum power in the list of numbers.\n",
    "\n",
    "def smallest_number(end, start=1):\n",
    "    if start == 1:\n",
    "        numbers_list = list(range(start+1,end))\n",
    "        if end == 1:\n",
    "            return 1\n",
    "    else:\n",
    "        numbers_list = list(range(start,end))\n",
    "\n",
    "    mult_list = []\n",
    "    while numbers_list:\n",
    "        number = numbers_list[0]\n",
    "        flag  = 0 \n",
    "        for i in range(2,number-1):\n",
    "            if number%i==0:\n",
    "                flag = 1\n",
    "                numbers_list.remove(number)\n",
    "                break\n",
    "        if flag == 0:\n",
    "            k = number\n",
    "            while k <= end:\n",
    "                if k*number < end:\n",
    "                    numbers_list.remove(k)\n",
    "                    k *= number\n",
    "                else:\n",
    "                    mult_list.append(k)\n",
    "                    numbers_list.remove(k)\n",
    "                    break\n",
    "    mult = 1\n",
    "    for m in mult_list:\n",
    "        mult *= m\n",
    "    return mult\n",
    "       \n",
    "\n",
    "\n",
    "     "
   ]
  },
  {
   "cell_type": "code",
   "execution_count": 124,
   "metadata": {},
   "outputs": [
    {
     "data": {
      "text/plain": [
       "[<matplotlib.lines.Line2D at 0x7f8584940e50>]"
      ]
     },
     "execution_count": 124,
     "metadata": {},
     "output_type": "execute_result"
    },
    {
     "data": {
      "image/png": "[encoded data removed]",
      "text/plain": [
       "<Figure size 432x288 with 1 Axes>"
      ]
     },
     "metadata": {
      "needs_background": "light"
     },
     "output_type": "display_data"
    }
   ],
   "source": [
    "import time\n",
    "import matplotlib.pyplot as plt\n",
    "\n",
    "complexity_list = list(range(1,1000))\n",
    "result = []\n",
    "for c in complexity_list:\n",
    "    start = time.time()\n",
    "    smallest_number(c)\n",
    "    result.append(time.time()-start)\n",
    "                  \n",
    "plt.plot(complexity_list, result)        "
   ]
  }
 ],
 "metadata": {
  "kernelspec": {
   "display_name": "Python 3",
   "language": "python",
   "name": "python3"
  },
  "language_info": {
   "codemirror_mode": {
    "name": "ipython",
    "version": 3
   },
   "file_extension": ".py",
   "mimetype": "text/x-python",
   "name": "python",
   "nbconvert_exporter": "python",
   "pygments_lexer": "ipython3",
   "version": "3.9.1"
  },
  "orig_nbformat": 4,
  "vscode": {
   "interpreter": {
    "hash": "aee8b7b246df8f9039afb4144a1f6fd8d2ca17a180786b69acc140d282b71a49"
   }
  }
 },
 "nbformat": 4,
 "nbformat_minor": 2
}
