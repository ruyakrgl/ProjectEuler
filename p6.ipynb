{
 "cells": [
  {
   "cell_type": "markdown",
   "metadata": {},
   "source": [
    "# Problem 6: Sum of Square Difference \n",
    "The sum of the squares of the first ten natural numbers is \n",
    "$$1^2 + 2^2 + \\ldots + 10^2 = 385.$$\n",
    "The square of the sum of the first ten natural numbers is \n",
    "$$ (1+2+\\ldots+10)^2 = 3025.$$\n",
    "Hence the difference between the sum of the squares of the first ten natural numbers and the square of the sum is \n",
    "$$3025−385=2640.$$\n",
    "\n",
    "Find the difference between the sum of the squares of the first one hundred natural numbers and the square of the sum.\n",
    "\n",
    "- Author: Ruya Karagulle\n",
    "- Date: Feb 2, 2023"
   ]
  },
  {
   "cell_type": "markdown",
   "metadata": {},
   "source": [
    "First attempt would be directly attacking the problem by subtracting sum of squares from the square of the sum after calculating each element separetely."
   ]
  },
  {
   "cell_type": "code",
   "execution_count": 3,
   "metadata": {},
   "outputs": [],
   "source": [
    "def difference_SofSq_SqofS(n):\n",
    "    sum_of_squares = sum([k**2 for k in range(n+1)])\n",
    "    square_of_sum = sum([k for k in range(n+1)])**2\n",
    "    return square_of_sum-sum_of_squares"
   ]
  },
  {
   "cell_type": "markdown",
   "metadata": {},
   "source": [
    "The time complexity is $O(N)$. But... We can think of a faster solution. By using summation rules of suares and cubes:\n",
    "\n",
    "$$ \\begin{align}\n",
    " (\\sum_{i=1}^N i)^2 - \\sum_{i=1}^N i^2 & = \\sum_{i=1}^N i^2 + 2((1\\times 2 + 1 \\times 3 + \\ldots 1\\times N) + 2\\times 3 + 2 \\times 4 \\ldots + 2\\times N + \\ldots (N-1)*N) - \\sum_{i=1}^N i^2\\\\\n",
    "                    & = 2\\sum_{i=1}^{N-1} (i \\sum_{j=i+1}^N j) \\\\\n",
    "                    & = 2\\sum_{i=1}^{N-1} (i (\\frac{N(N+1)}{2} - \\frac{i(i+1)}{2}))\\\\\n",
    "                    & = N(N+1)\\sum_{i=1}^{N-1}i  - \\sum_{i=1}^{N-1}i^3 - \\sum_{i=1}^{N-1} i^2 \\\\\n",
    "                    & = N(N+1)\\frac{(N-1)N}{2} - \\bigg( \\frac{(N-1)N}{2} \\bigg)^2 - \\frac{(N-1)N(2N-1)}{6}\n",
    "\n",
    "    \\end{align}$$ "
   ]
  },
  {
   "cell_type": "code",
   "execution_count": 4,
   "metadata": {},
   "outputs": [],
   "source": [
    "def fast_difference_SofSq_SqofS(n):\n",
    "    return (n-1)*n**2*(n+1)/2 - (n*(n-1)/2)**2 - (n-1)*n*(2*n-1)/6"
   ]
  },
  {
   "cell_type": "code",
   "execution_count": 6,
   "metadata": {},
   "outputs": [
    {
     "name": "stdout",
     "output_type": "stream",
     "text": [
      "Result of brut force function: 25164150\n",
      "Result of fast function:       25164150.0\n"
     ]
    }
   ],
   "source": [
    "print(f\"Result of brut force function: {difference_SofSq_SqofS(100)}\")\n",
    "print(f\"Result of fast function: {fast_difference_SofSq_SqofS(100): >16}\")\n"
   ]
  },
  {
   "cell_type": "code",
   "execution_count": 30,
   "metadata": {},
   "outputs": [
    {
     "name": "stdout",
     "output_type": "stream",
     "text": [
      "timeit for brut force function:\n",
      "55.7 µs ± 262 ns per loop (mean ± std. dev. of 7 runs, 10000 loops each)\n",
      "timeit for fast function:\n",
      "1.94 µs ± 5.85 ns per loop (mean ± std. dev. of 7 runs, 1000000 loops each)\n"
     ]
    }
   ],
   "source": [
    "print(\"timeit for brut force function:\")\n",
    "%timeit difference_SofSq_SqofS(100)\n",
    "print(\"timeit for fast function:\")\n",
    "%timeit fast_difference_SofSq_SqofS(100)"
   ]
  },
  {
   "cell_type": "markdown",
   "metadata": {},
   "source": [
    "# Result:\n",
    "\n",
    "Fast function is $\\sim 30\\times$ faster in my computer for $N=100$. It is expected since it is fat function's complexity is $O(1)$."
   ]
  }
 ],
 "metadata": {
  "kernelspec": {
   "display_name": "Python 3.9.1 64-bit",
   "language": "python",
   "name": "python3"
  },
  "language_info": {
   "codemirror_mode": {
    "name": "ipython",
    "version": 3
   },
   "file_extension": ".py",
   "mimetype": "text/x-python",
   "name": "python",
   "nbconvert_exporter": "python",
   "pygments_lexer": "ipython3",
   "version": "3.9.1"
  },
  "orig_nbformat": 4,
  "vscode": {
   "interpreter": {
    "hash": "aee8b7b246df8f9039afb4144a1f6fd8d2ca17a180786b69acc140d282b71a49"
   }
  }
 },
 "nbformat": 4,
 "nbformat_minor": 2
}
